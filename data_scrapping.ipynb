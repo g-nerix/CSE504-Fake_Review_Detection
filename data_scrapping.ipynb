{
  "nbformat": 4,
  "nbformat_minor": 0,
  "metadata": {
    "colab": {
      "provenance": []
    },
    "kernelspec": {
      "name": "python3",
      "display_name": "Python 3"
    },
    "language_info": {
      "name": "python"
    }
  },
  "cells": [
    {
      "cell_type": "code",
      "execution_count": 1,
      "metadata": {
        "colab": {
          "base_uri": "https://localhost:8080/"
        },
        "id": "DPV29o7wV2Fq",
        "outputId": "de3b1c37-2aba-456e-ff29-eb56d82abf01"
      },
      "outputs": [
        {
          "output_type": "stream",
          "name": "stdout",
          "text": [
            "Mounted at /content/drive\n"
          ]
        }
      ],
      "source": [
        "from google.colab import drive\n",
        "drive.mount('/content/drive')"
      ]
    },
    {
      "cell_type": "code",
      "source": [
        "import pandas as pd\n",
        "import numpy as np\n",
        "import bz2\n",
        "import re"
      ],
      "metadata": {
        "id": "KamnVxkZWTGo"
      },
      "execution_count": 9,
      "outputs": []
    },
    {
      "cell_type": "code",
      "source": [
        "train = \"/content/drive/MyDrive/irfinalproject/train.ft.txt.bz2\"\n",
        "# test = \"/content/drive/MyDrive/test.ft.txt.bz2\"\n",
        "users = \"/content/drive/MyDrive/irfinalproject/Reviews.csv\""
      ],
      "metadata": {
        "id": "xyzljoV9V_oR"
      },
      "execution_count": 2,
      "outputs": []
    },
    {
      "cell_type": "code",
      "source": [
        "d=pd.read_csv(users)\n",
        "d.info()"
      ],
      "metadata": {
        "colab": {
          "base_uri": "https://localhost:8080/"
        },
        "id": "SYbcrFYpWRdc",
        "outputId": "0ff7a0e3-181b-4b7f-a7ec-8e969c5ff105"
      },
      "execution_count": 6,
      "outputs": [
        {
          "output_type": "stream",
          "name": "stdout",
          "text": [
            "<class 'pandas.core.frame.DataFrame'>\n",
            "RangeIndex: 568454 entries, 0 to 568453\n",
            "Data columns (total 10 columns):\n",
            " #   Column                  Non-Null Count   Dtype \n",
            "---  ------                  --------------   ----- \n",
            " 0   Id                      568454 non-null  int64 \n",
            " 1   ProductId               568454 non-null  object\n",
            " 2   UserId                  568454 non-null  object\n",
            " 3   ProfileName             568438 non-null  object\n",
            " 4   HelpfulnessNumerator    568454 non-null  int64 \n",
            " 5   HelpfulnessDenominator  568454 non-null  int64 \n",
            " 6   Score                   568454 non-null  int64 \n",
            " 7   Time                    568454 non-null  int64 \n",
            " 8   Summary                 568427 non-null  object\n",
            " 9   Text                    568454 non-null  object\n",
            "dtypes: int64(5), object(5)\n",
            "memory usage: 43.4+ MB\n"
          ]
        }
      ]
    },
    {
      "cell_type": "code",
      "source": [
        "import random\n",
        "def get_labels_and_texts(file):\n",
        "    labels = []\n",
        "    texts = []\n",
        "    for line in bz2.BZ2File(file):\n",
        "      \n",
        "        x = line.decode(\"utf-8\")\n",
        "        labels.append(int(x[9]) - 1)\n",
        "        texts.append(x[10:].strip())\n",
        "  \n",
        "    return np.array(labels), texts\n",
        "labels, texts = get_labels_and_texts(train)"
      ],
      "metadata": {
        "id": "136OI4bnWxq9"
      },
      "execution_count": 10,
      "outputs": []
    },
    {
      "cell_type": "code",
      "source": [
        "df=pd.DataFrame()\n",
        "df['Label'] = labels\n",
        "df['Text'] = texts\n",
        "df['ProductId'] = d['ProductId']\n",
        "df['UserId'] = d['UserId']\n",
        "df['Username'] = d['ProfileName']\n",
        "df['HelpfulnessNumerator']=d['HelpfulnessNumerator']\n",
        "df['HelpfulnessDenominator']=d['HelpfulnessDenominator']"
      ],
      "metadata": {
        "id": "VBitLer6WpCK"
      },
      "execution_count": 11,
      "outputs": []
    },
    {
      "cell_type": "code",
      "source": [
        "df = df[:d.shape[0]]\n",
        "df = df.sample(n=36000) "
      ],
      "metadata": {
        "id": "ughaYUVCXuyF"
      },
      "execution_count": 12,
      "outputs": []
    },
    {
      "cell_type": "code",
      "source": [
        "import random\n",
        "df['Score'] = np.zeros(36000)\n",
        "for i in range(len(df)):\n",
        "  if(df['Label'].iloc[i]==1):\n",
        "    df['Score'].iloc[i]=random.randint(4,5)\n",
        "  else:\n",
        "    df['Score'].iloc[i]=random.randint(1,3)"
      ],
      "metadata": {
        "colab": {
          "base_uri": "https://localhost:8080/"
        },
        "id": "Onc34a6nXzQs",
        "outputId": "ae69a83d-7748-4df4-8c2b-192e3aadce3a"
      },
      "execution_count": 13,
      "outputs": [
        {
          "output_type": "stream",
          "name": "stderr",
          "text": [
            "<ipython-input-13-48f9b9e7b6ca>:5: SettingWithCopyWarning: \n",
            "A value is trying to be set on a copy of a slice from a DataFrame\n",
            "\n",
            "See the caveats in the documentation: https://pandas.pydata.org/pandas-docs/stable/user_guide/indexing.html#returning-a-view-versus-a-copy\n",
            "  df['Score'].iloc[i]=random.randint(4,5)\n",
            "<ipython-input-13-48f9b9e7b6ca>:7: SettingWithCopyWarning: \n",
            "A value is trying to be set on a copy of a slice from a DataFrame\n",
            "\n",
            "See the caveats in the documentation: https://pandas.pydata.org/pandas-docs/stable/user_guide/indexing.html#returning-a-view-versus-a-copy\n",
            "  df['Score'].iloc[i]=random.randint(1,3)\n"
          ]
        }
      ]
    },
    {
      "cell_type": "code",
      "source": [
        "d=d.drop('Id',axis=1)\n",
        "d=d.drop('Time',axis=1)\n",
        "d=d.drop('Summary',axis=1)\n",
        "\n",
        "d.rename(columns = {'ProfileName':'Username'}, inplace = True)\n",
        "\n",
        "d['Label'] = d['Score'].apply(lambda x : 1 if x>3 else 0)"
      ],
      "metadata": {
        "id": "mlEHWTy5X3tD"
      },
      "execution_count": 14,
      "outputs": []
    },
    {
      "cell_type": "code",
      "source": [
        "d = d.sample(n=14000)"
      ],
      "metadata": {
        "id": "T_B_GmmAYCt5"
      },
      "execution_count": 15,
      "outputs": []
    },
    {
      "cell_type": "code",
      "source": [
        "df=df.append(d)"
      ],
      "metadata": {
        "colab": {
          "base_uri": "https://localhost:8080/"
        },
        "id": "dKY4I5B-YFZs",
        "outputId": "5c25ca09-2304-49fa-ef93-94a7233a556e"
      },
      "execution_count": 16,
      "outputs": [
        {
          "output_type": "stream",
          "name": "stderr",
          "text": [
            "<ipython-input-16-ec0b14f945d8>:1: FutureWarning: The frame.append method is deprecated and will be removed from pandas in a future version. Use pandas.concat instead.\n",
            "  df=df.append(d)\n"
          ]
        }
      ]
    },
    {
      "cell_type": "code",
      "source": [
        "df.shape"
      ],
      "metadata": {
        "colab": {
          "base_uri": "https://localhost:8080/"
        },
        "id": "NDaiSAyRYKRB",
        "outputId": "55014cea-7bc7-4c2b-fd22-0089bb94421c"
      },
      "execution_count": 17,
      "outputs": [
        {
          "output_type": "execute_result",
          "data": {
            "text/plain": [
              "(50000, 8)"
            ]
          },
          "metadata": {},
          "execution_count": 17
        }
      ]
    },
    {
      "cell_type": "code",
      "source": [
        "df"
      ],
      "metadata": {
        "colab": {
          "base_uri": "https://localhost:8080/",
          "height": 641
        },
        "id": "_BCIbsmHYMgM",
        "outputId": "c07da848-6f0c-438f-9698-147ac3b41cc8"
      },
      "execution_count": 18,
      "outputs": [
        {
          "output_type": "execute_result",
          "data": {
            "text/plain": [
              "        Label                                               Text   ProductId  \\\n",
              "504174      1  The Creatures deliver the goods.: As a long ti...  B003P02EGU   \n",
              "533066      0  Don't buy used: Don't buy this used. Neither o...  B009E7YC54   \n",
              "264589      0  Belts burning the casing: Loved this vacuum---...  B002ZOPVG2   \n",
              "290222      1  Queensryche, has out-done its self with this c...  B000IZ0OC6   \n",
              "99874       1  Lexar multi card reader: The unit combines all...  B000H1CO74   \n",
              "...       ...                                                ...         ...   \n",
              "168722      1  Great product, excellent value. I was buying t...  B005PANYEY   \n",
              "64747       0  I was extremely dissapointed in this product. ...  B003WEDT4U   \n",
              "239457      1  I am head over heels about these peanuts. They...  B001FA1IZA   \n",
              "161228      0  I have a 60lb English Bulldog/German Shepherd ...  B008O3G2K2   \n",
              "144306      1  this is so cool! just throw a bowl in your pac...  B000LQORIY   \n",
              "\n",
              "                UserId        Username  HelpfulnessNumerator  \\\n",
              "504174  A3LAN99BT1QBEN         Mrs. H.                   1.0   \n",
              "533066  A16F8IW5NK9Y4Q    Kristin Ames                   1.0   \n",
              "264589   AIQDUKFB4X38M      VonMalcolm                   1.0   \n",
              "290222  A1N1PMGMVFD8FD         gotjava                   0.0   \n",
              "99874   A1GYEGLX3P2Y7P  Shala Kerrigan                   1.0   \n",
              "...                ...             ...                   ...   \n",
              "168722  A3FABTXTZJ2ZN7        Fryday17                   0.0   \n",
              "64747   A1NNJKJV1V04JA           Marka                   0.0   \n",
              "239457  A3BADG55FYI5M2         Gary M.                   0.0   \n",
              "161228   A3DH53FPYSP9E       Media Man                   2.0   \n",
              "144306  A3744AZ6HJNOMP            john                   3.0   \n",
              "\n",
              "        HelpfulnessDenominator  Score  \n",
              "504174                     1.0    4.0  \n",
              "533066                     1.0    3.0  \n",
              "264589                     1.0    1.0  \n",
              "290222                     1.0    4.0  \n",
              "99874                      1.0    5.0  \n",
              "...                        ...    ...  \n",
              "168722                     0.0    5.0  \n",
              "64747                      4.0    1.0  \n",
              "239457                     0.0    5.0  \n",
              "161228                     4.0    2.0  \n",
              "144306                     4.0    5.0  \n",
              "\n",
              "[50000 rows x 8 columns]"
            ],
            "text/html": [
              "\n",
              "  <div id=\"df-592e21a8-c6bb-43a5-9194-ee3a05e1f69f\">\n",
              "    <div class=\"colab-df-container\">\n",
              "      <div>\n",
              "<style scoped>\n",
              "    .dataframe tbody tr th:only-of-type {\n",
              "        vertical-align: middle;\n",
              "    }\n",
              "\n",
              "    .dataframe tbody tr th {\n",
              "        vertical-align: top;\n",
              "    }\n",
              "\n",
              "    .dataframe thead th {\n",
              "        text-align: right;\n",
              "    }\n",
              "</style>\n",
              "<table border=\"1\" class=\"dataframe\">\n",
              "  <thead>\n",
              "    <tr style=\"text-align: right;\">\n",
              "      <th></th>\n",
              "      <th>Label</th>\n",
              "      <th>Text</th>\n",
              "      <th>ProductId</th>\n",
              "      <th>UserId</th>\n",
              "      <th>Username</th>\n",
              "      <th>HelpfulnessNumerator</th>\n",
              "      <th>HelpfulnessDenominator</th>\n",
              "      <th>Score</th>\n",
              "    </tr>\n",
              "  </thead>\n",
              "  <tbody>\n",
              "    <tr>\n",
              "      <th>504174</th>\n",
              "      <td>1</td>\n",
              "      <td>The Creatures deliver the goods.: As a long ti...</td>\n",
              "      <td>B003P02EGU</td>\n",
              "      <td>A3LAN99BT1QBEN</td>\n",
              "      <td>Mrs. H.</td>\n",
              "      <td>1.0</td>\n",
              "      <td>1.0</td>\n",
              "      <td>4.0</td>\n",
              "    </tr>\n",
              "    <tr>\n",
              "      <th>533066</th>\n",
              "      <td>0</td>\n",
              "      <td>Don't buy used: Don't buy this used. Neither o...</td>\n",
              "      <td>B009E7YC54</td>\n",
              "      <td>A16F8IW5NK9Y4Q</td>\n",
              "      <td>Kristin Ames</td>\n",
              "      <td>1.0</td>\n",
              "      <td>1.0</td>\n",
              "      <td>3.0</td>\n",
              "    </tr>\n",
              "    <tr>\n",
              "      <th>264589</th>\n",
              "      <td>0</td>\n",
              "      <td>Belts burning the casing: Loved this vacuum---...</td>\n",
              "      <td>B002ZOPVG2</td>\n",
              "      <td>AIQDUKFB4X38M</td>\n",
              "      <td>VonMalcolm</td>\n",
              "      <td>1.0</td>\n",
              "      <td>1.0</td>\n",
              "      <td>1.0</td>\n",
              "    </tr>\n",
              "    <tr>\n",
              "      <th>290222</th>\n",
              "      <td>1</td>\n",
              "      <td>Queensryche, has out-done its self with this c...</td>\n",
              "      <td>B000IZ0OC6</td>\n",
              "      <td>A1N1PMGMVFD8FD</td>\n",
              "      <td>gotjava</td>\n",
              "      <td>0.0</td>\n",
              "      <td>1.0</td>\n",
              "      <td>4.0</td>\n",
              "    </tr>\n",
              "    <tr>\n",
              "      <th>99874</th>\n",
              "      <td>1</td>\n",
              "      <td>Lexar multi card reader: The unit combines all...</td>\n",
              "      <td>B000H1CO74</td>\n",
              "      <td>A1GYEGLX3P2Y7P</td>\n",
              "      <td>Shala Kerrigan</td>\n",
              "      <td>1.0</td>\n",
              "      <td>1.0</td>\n",
              "      <td>5.0</td>\n",
              "    </tr>\n",
              "    <tr>\n",
              "      <th>...</th>\n",
              "      <td>...</td>\n",
              "      <td>...</td>\n",
              "      <td>...</td>\n",
              "      <td>...</td>\n",
              "      <td>...</td>\n",
              "      <td>...</td>\n",
              "      <td>...</td>\n",
              "      <td>...</td>\n",
              "    </tr>\n",
              "    <tr>\n",
              "      <th>168722</th>\n",
              "      <td>1</td>\n",
              "      <td>Great product, excellent value. I was buying t...</td>\n",
              "      <td>B005PANYEY</td>\n",
              "      <td>A3FABTXTZJ2ZN7</td>\n",
              "      <td>Fryday17</td>\n",
              "      <td>0.0</td>\n",
              "      <td>0.0</td>\n",
              "      <td>5.0</td>\n",
              "    </tr>\n",
              "    <tr>\n",
              "      <th>64747</th>\n",
              "      <td>0</td>\n",
              "      <td>I was extremely dissapointed in this product. ...</td>\n",
              "      <td>B003WEDT4U</td>\n",
              "      <td>A1NNJKJV1V04JA</td>\n",
              "      <td>Marka</td>\n",
              "      <td>0.0</td>\n",
              "      <td>4.0</td>\n",
              "      <td>1.0</td>\n",
              "    </tr>\n",
              "    <tr>\n",
              "      <th>239457</th>\n",
              "      <td>1</td>\n",
              "      <td>I am head over heels about these peanuts. They...</td>\n",
              "      <td>B001FA1IZA</td>\n",
              "      <td>A3BADG55FYI5M2</td>\n",
              "      <td>Gary M.</td>\n",
              "      <td>0.0</td>\n",
              "      <td>0.0</td>\n",
              "      <td>5.0</td>\n",
              "    </tr>\n",
              "    <tr>\n",
              "      <th>161228</th>\n",
              "      <td>0</td>\n",
              "      <td>I have a 60lb English Bulldog/German Shepherd ...</td>\n",
              "      <td>B008O3G2K2</td>\n",
              "      <td>A3DH53FPYSP9E</td>\n",
              "      <td>Media Man</td>\n",
              "      <td>2.0</td>\n",
              "      <td>4.0</td>\n",
              "      <td>2.0</td>\n",
              "    </tr>\n",
              "    <tr>\n",
              "      <th>144306</th>\n",
              "      <td>1</td>\n",
              "      <td>this is so cool! just throw a bowl in your pac...</td>\n",
              "      <td>B000LQORIY</td>\n",
              "      <td>A3744AZ6HJNOMP</td>\n",
              "      <td>john</td>\n",
              "      <td>3.0</td>\n",
              "      <td>4.0</td>\n",
              "      <td>5.0</td>\n",
              "    </tr>\n",
              "  </tbody>\n",
              "</table>\n",
              "<p>50000 rows × 8 columns</p>\n",
              "</div>\n",
              "      <button class=\"colab-df-convert\" onclick=\"convertToInteractive('df-592e21a8-c6bb-43a5-9194-ee3a05e1f69f')\"\n",
              "              title=\"Convert this dataframe to an interactive table.\"\n",
              "              style=\"display:none;\">\n",
              "        \n",
              "  <svg xmlns=\"http://www.w3.org/2000/svg\" height=\"24px\"viewBox=\"0 0 24 24\"\n",
              "       width=\"24px\">\n",
              "    <path d=\"M0 0h24v24H0V0z\" fill=\"none\"/>\n",
              "    <path d=\"M18.56 5.44l.94 2.06.94-2.06 2.06-.94-2.06-.94-.94-2.06-.94 2.06-2.06.94zm-11 1L8.5 8.5l.94-2.06 2.06-.94-2.06-.94L8.5 2.5l-.94 2.06-2.06.94zm10 10l.94 2.06.94-2.06 2.06-.94-2.06-.94-.94-2.06-.94 2.06-2.06.94z\"/><path d=\"M17.41 7.96l-1.37-1.37c-.4-.4-.92-.59-1.43-.59-.52 0-1.04.2-1.43.59L10.3 9.45l-7.72 7.72c-.78.78-.78 2.05 0 2.83L4 21.41c.39.39.9.59 1.41.59.51 0 1.02-.2 1.41-.59l7.78-7.78 2.81-2.81c.8-.78.8-2.07 0-2.86zM5.41 20L4 18.59l7.72-7.72 1.47 1.35L5.41 20z\"/>\n",
              "  </svg>\n",
              "      </button>\n",
              "      \n",
              "  <style>\n",
              "    .colab-df-container {\n",
              "      display:flex;\n",
              "      flex-wrap:wrap;\n",
              "      gap: 12px;\n",
              "    }\n",
              "\n",
              "    .colab-df-convert {\n",
              "      background-color: #E8F0FE;\n",
              "      border: none;\n",
              "      border-radius: 50%;\n",
              "      cursor: pointer;\n",
              "      display: none;\n",
              "      fill: #1967D2;\n",
              "      height: 32px;\n",
              "      padding: 0 0 0 0;\n",
              "      width: 32px;\n",
              "    }\n",
              "\n",
              "    .colab-df-convert:hover {\n",
              "      background-color: #E2EBFA;\n",
              "      box-shadow: 0px 1px 2px rgba(60, 64, 67, 0.3), 0px 1px 3px 1px rgba(60, 64, 67, 0.15);\n",
              "      fill: #174EA6;\n",
              "    }\n",
              "\n",
              "    [theme=dark] .colab-df-convert {\n",
              "      background-color: #3B4455;\n",
              "      fill: #D2E3FC;\n",
              "    }\n",
              "\n",
              "    [theme=dark] .colab-df-convert:hover {\n",
              "      background-color: #434B5C;\n",
              "      box-shadow: 0px 1px 3px 1px rgba(0, 0, 0, 0.15);\n",
              "      filter: drop-shadow(0px 1px 2px rgba(0, 0, 0, 0.3));\n",
              "      fill: #FFFFFF;\n",
              "    }\n",
              "  </style>\n",
              "\n",
              "      <script>\n",
              "        const buttonEl =\n",
              "          document.querySelector('#df-592e21a8-c6bb-43a5-9194-ee3a05e1f69f button.colab-df-convert');\n",
              "        buttonEl.style.display =\n",
              "          google.colab.kernel.accessAllowed ? 'block' : 'none';\n",
              "\n",
              "        async function convertToInteractive(key) {\n",
              "          const element = document.querySelector('#df-592e21a8-c6bb-43a5-9194-ee3a05e1f69f');\n",
              "          const dataTable =\n",
              "            await google.colab.kernel.invokeFunction('convertToInteractive',\n",
              "                                                     [key], {});\n",
              "          if (!dataTable) return;\n",
              "\n",
              "          const docLinkHtml = 'Like what you see? Visit the ' +\n",
              "            '<a target=\"_blank\" href=https://colab.research.google.com/notebooks/data_table.ipynb>data table notebook</a>'\n",
              "            + ' to learn more about interactive tables.';\n",
              "          element.innerHTML = '';\n",
              "          dataTable['output_type'] = 'display_data';\n",
              "          await google.colab.output.renderOutput(dataTable, element);\n",
              "          const docLink = document.createElement('div');\n",
              "          docLink.innerHTML = docLinkHtml;\n",
              "          element.appendChild(docLink);\n",
              "        }\n",
              "      </script>\n",
              "    </div>\n",
              "  </div>\n",
              "  "
            ]
          },
          "metadata": {},
          "execution_count": 18
        }
      ]
    },
    {
      "cell_type": "code",
      "source": [
        "df.to_csv(\"file.csv\")"
      ],
      "metadata": {
        "id": "Y0X2F9UqYO15"
      },
      "execution_count": 19,
      "outputs": []
    }
  ]
}